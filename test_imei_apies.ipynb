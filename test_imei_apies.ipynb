{
 "cells": [
  {
   "cell_type": "code",
   "execution_count": null,
   "metadata": {},
   "outputs": [],
   "source": [
    "import requests"
   ]
  },
  {
   "cell_type": "code",
   "execution_count": null,
   "metadata": {},
   "outputs": [],
   "source": [
    "class Handler:\n",
    "    def __init__(self, successor=None):\n",
    "        self.successor = successor\n",
    "\n",
    "    def handle(self, request):\n",
    "        if self.successor:\n",
    "            return self.successor.handle(request)"
   ]
  },
  {
   "cell_type": "code",
   "execution_count": null,
   "metadata": {},
   "outputs": [],
   "source": [
    "class APIHandler1(Handler):\n",
    "    def handle(self, request):\n",
    "        try:\n",
    "            response = requests.get(\"\", params=request)\n",
    "            response.raise_for_status()\n",
    "            return response.json()\n",
    "        except (requests.HTTPError, requests.ConnectionError):\n",
    "            print(\"APIHandler1: error\")\n",
    "            return super().handle(request)"
   ]
  },
  {
   "cell_type": "code",
   "execution_count": null,
   "metadata": {},
   "outputs": [],
   "source": [
    "class APIHandler2(Handler):\n",
    "    def handle(self, request):\n",
    "        try:\n",
    "            response = requests.get(\"\", params=request)\n",
    "            response.raise_for_status()\n",
    "            return response.json()\n",
    "        except (requests.HTTPError, requests.ConnectionError):\n",
    "            print(\"APIHandler2: error\")\n",
    "            return None\n"
   ]
  },
  {
   "cell_type": "code",
   "execution_count": null,
   "metadata": {},
   "outputs": [],
   "source": [
    "handler = APIHandler1(APIHandler2())"
   ]
  },
  {
   "cell_type": "code",
   "execution_count": null,
   "metadata": {},
   "outputs": [],
   "source": [
    "request_params = {}\n",
    "result = handler.handle(request_params)\n",
    "\n",
    "if result:\n",
    "    print(result)\n",
    "else:\n",
    "    print(\"Ничего не найдено\")"
   ]
  },
  {
   "cell_type": "code",
   "execution_count": null,
   "metadata": {},
   "outputs": [],
   "source": [
    "from selenium import webdriver\n",
    "from selenium.webdriver.firefox.options import Options\n",
    "\n",
    "options = Options()\n",
    "options.add_argument(\"--headless=new\")\n",
    "driver = webdriver.Firefox(options=options)\n",
    "driver.get(\"https://www.imei.info/?imei=490154203237518\")\n",
    "driver.implicitly_wait(10)\n",
    "rendered_html = driver.page_source\n",
    "with open(\"page.html\", \"w\", encoding=\"utf-8\") as f:\n",
    "    f.write(rendered_html)\n",
    "driver.quit()"
   ]
  },
  {
   "cell_type": "code",
   "execution_count": null,
   "metadata": {},
   "outputs": [],
   "source": [
    "import undetected_chromedriver as uc\n",
    "import time\n",
    "from selenium.webdriver.common.by import By\n",
    "from selenium.webdriver.support.ui import WebDriverWait\n",
    "from selenium.webdriver.support import expected_conditions as EC\n",
    "\n",
    "options = uc.ChromeOptions()\n",
    "options.headless = True\n",
    "driver = uc.Chrome()\n",
    "driver.get(\"https://www.imei.info/?imei=359761979807157\")\n",
    "time.sleep(20)\n",
    "page_source = driver.page_source\n",
    "with open('rendered_page.html', 'w', encoding='utf-8') as f:\n",
    "    f.write(page_source)\n",
    "driver.quit()"
   ]
  },
  {
   "cell_type": "code",
   "execution_count": null,
   "metadata": {},
   "outputs": [],
   "source": [
    "import undetected_chromedriver as uc\n",
    "from selenium.webdriver.common.by import By\n",
    "from selenium.webdriver.support import expected_conditions as EC\n",
    "from selenium.webdriver.support.ui import WebDriverWait\n",
    "import random\n",
    "import time\n",
    "\n",
    "def get_random_user_agent():\n",
    "    agents = [\n",
    "        \"Mozilla/5.0 (Windows NT 10.0; Win64; x64) AppleWebKit/537.36 (KHTML, like Gecko) Chrome/120.0.0.0 Safari/537.36\",\n",
    "        \"Mozilla/5.0 (Macintosh; Intel Mac OS X 14_4) AppleWebKit/605.1.15 (KHTML, like Gecko) Version/17.4 Safari/605.1.15\"\n",
    "    ]\n",
    "    return random.choice(agents)\n",
    "\n",
    "options = uc.ChromeOptions()\n",
    "options.add_argument(\"--disable-blink-features=AutomationControlled\")\n",
    "# options.add_argument(\"--no-sandbox\")\n",
    "# options.add_argument(\"--disable-dev-shm-usage\")\n",
    "# options.add_argument(f\"--user-agent={get_random_user_agent()}\")\n",
    "# options.add_argument(\"--disable-webgl\")\n",
    "# options.add_argument(\"--disable-popup-blocking\")\n",
    "# options.add_argument('--blink-settings=imagesEnabled=false')\n",
    "try:\n",
    "    driver = uc.Chrome(\n",
    "        # options=options,\n",
    "        # use_subprocess=True  # Важно для обхода детекции\n",
    "    )\n",
    "    # driver.execute_cdp_cmd(\"Network.enable\", {})\n",
    "    # driver.execute_cdp_cmd(\"Emulation.setScriptExecutionDisabled\", {\"value\": True})\n",
    "    # driver.execute_script(\"Object.defineProperty(navigator, 'webdriver', {get: () => undefined})\")\n",
    "    driver.get(\"https://www.imei.info/?imei=359761979807157\")\n",
    "    time.sleep(20)\n",
    "    page_source = driver.page_source\n",
    "    if driver.page_source:\n",
    "        with open('hacked_page.html', 'w', encoding='utf-8') as f:\n",
    "            f.write(driver.page_source)\n",
    "        print(\">>> Успешный взлом! Данные сохранены <<<\")\n",
    "    else:\n",
    "        raise Exception(\"Cloudflare блокирует доступ\")\n",
    "\n",
    "except Exception as e:\n",
    "    print(f\"!!! Критическая ошибка: {str(e)}\")\n",
    "    if 'driver' in locals():\n",
    "        driver.save_screenshot('dark_debug.png')\n",
    "\n",
    "finally:\n",
    "    if 'driver' in locals():\n",
    "        driver.quit()"
   ]
  },
  {
   "cell_type": "code",
   "execution_count": null,
   "metadata": {},
   "outputs": [],
   "source": [
    "import requests"
   ]
  },
  {
   "cell_type": "code",
   "execution_count": null,
   "metadata": {},
   "outputs": [],
   "source": [
    "headers = {\n",
    "    'User-Agent': 'Mozilla/5.0 (Windows NT 10.0; Win64; x64) AppleWebKit/537.36 (KHTML, like Gecko) Chrome/132.0.0.0 YaBrowser/25.2.0.0 Safari/537.36',\n",
    "    'Accept': 'text/html,application/xhtml+xml,application/xml;q=0.9,image/avif,image/webp,image/apng,*/*;q=0.8,application/signed-exchange;v=b3;q=0.7',\n",
    "    'Accept-Encoding': 'gzip, deflate, br, zstd',\n",
    "    'Accept-Language': 'ru,en;q=0.9',\n",
    "    'Content-Type': 'application/x-www-form-urlencoded',\n",
    "    'Origin': 'https://imei.net',\n",
    "    'Referer': 'https://imei.net/api',\n",
    "    'Cookie': '__Secure-3PSID=g.a000ugjguXpTTH4m1BN8A6mXI1ql6-Ft0aG9gTVSTxzW09JngbrSdEqKmkhfQTVCnf7BeXdXmwACgYKAUwSARQSFQHGX2MieUrzzasFV2Ko4urATsJh8RoVAUF8yKoIhCMYLp9rzMd0iTcNAM9l0076; __Secure-3PAPISID=4tTd0j6QXqHnaUnl/A98kJfI-rnL1bFNIP; NID=522=1cvFy7ILOA-B0u1zS3rWc_LpBkhwYYGTSe5Bk6uy01Er6zGRIfIFHgzweSGTN29141NqAHNASv_6lB__tjmW3i6YZEo1jLVxIt6C-08YN-PrUu2VGXv2CSAsfgRdKEruGBSHdtDpNe6b9nYRo8Tqs4Vq0SOgUjYosE3AFJ-9YNOPwhITX_LNR1sfi14U8gOYZ7SZ-5qbjqvM4Le88vjJiBFBut-LajiS83Ci6uAWHtDeV2xsi_t-F8oNp7UufH3kNNCDzRYkguX5AhPRxrIkOLj9x_LQ07xqk_S5Nyf49i8hcb5rqZWChdtY5iXEdVXzhETOAN5uD0CerBfGXInoGFSG7E16PlcnLoZflhSNFx2C3NT45OMhGvXvQEzxWDx2pMzd6avcjvRvmVQjzsAlFiodNpZH_nzg1gEQ5Rq15mHnpjQBtobHMD1mUxCqB2kZmZXNvhwjy2Behog7c179eaL61DitTf0XBGTdxEI0HOX_FZQjGGQpLBW7xohOKLtqeFhEfQIgkmie91Ehq29_XK3mY6yiLwmeno1W3s90bkXMFF4Eu0Syl1GKdr7Kh4LuIpEmxmIH-m2VCY6U_UAlvNN19mqU6r7sq3tkPxbaBXuBm-wmompfgiRXQw8Ng-RsNON7qS6sQhXCB_QEPhLYEFsaoRnGn5fXpMzUBDk3bCzriVoo1z3JaGJyhKrjLvoqHusojNinLLH0h0hsZcZS5atwv4TNsyH0U1fu35ZXG9IaLPWF5GY_tPUdajpyr2DvmMsuisof9PZdQYj1t-RplPqfizdwJJS0NQVK5QOlCWZTSG78XOT1eCnoeRYRKSQbUH44OgWZvncLdeBI5nrTHTCpYNjH1hWxamkM42sCksoYfiqsSEPBsYD4nhN7ivcjGj9YqOKFX2Q-xTJURhDt5UD_iA_MA95DXW3TiLQ8DH1a3udzMPtCt_2bjHaiS_fstowmkIrzhYFKJcJZTbG6nuzpBVxgDax0dKpZEuhC7dS1kFm3DCRR6CeYrhtM0xpjm0yjmOyVxg7efZlbwBSPe_6U2P5KJuw6X7_RTQILZ_rTyHxxkc-Lk4AA9vdQKxDrtCs931nusR1KIpJ7Q4--8e6EXLetMJRbn4lmQn8; __Secure-3PSIDTS=sidts-CjIBEJ3XV_mIcuPqWgSh7gJupfafKDqjKa4olxGESI2-xE7aWssWXt3hh8zbZ228IEOO8xAA; __Secure-3PSIDCC=AKEyXzX3sB4xv-upqfvh32TqoXhmCkSpCgKKuKfubCFigNGkoSWvzYS81UqcKPN26niMN8KIiYw',\n",
    "    'Upgrade-Insecure-Requests': '1'\n",
    "}"
   ]
  },
  {
   "cell_type": "code",
   "execution_count": null,
   "metadata": {},
   "outputs": [],
   "source": [
    "requests.post(\"https://www.google.com/recaptcha/api2/reload?k=6Leh4MYbAAAAAAx2lzJHIkxczzPxPd057qEvGPMp\", headers=headers, data={'k': \"6Leh4MYbAAAAAAx2lzJHIkxczzPxPd057qEvGPMp\"}).content"
   ]
  },
  {
   "cell_type": "code",
   "execution_count": null,
   "metadata": {},
   "outputs": [],
   "source": [
    "requests.post(\"https://imei.net/api\", headers={\n",
    "    'User-Agent': 'Mozilla/5.0 (Windows NT 10.0; Win64; x64) AppleWebKit/537.36 (KHTML, like Gecko) Chrome/132.0.0.0 YaBrowser/25.2.0.0 Safari/537.36',\n",
    "    'Accept': 'text/html,application/xhtml+xml,application/xml;q=0.9,image/avif,image/webp,image/apng,*/*;q=0.8,application/signed-exchange;v=b3;q=0.7',\n",
    "    'Accept-Encoding': 'gzip, deflate, br, zstd',\n",
    "    'Accept-Language': 'ru,en;q=0.9',\n",
    "    'Content-Type': 'application/x-www-form-urlencoded',\n",
    "    'Origin': 'https://imei.net',\n",
    "    'Referer': 'https://imei.net/api',\n",
    "    'Cookie': 'pll_language=en; _gid=GA1.2.1444797198.1741332501; _ga=GA1.2.1437008715.1741332500; _ga_S1RN945JNC=GS1.1.1741356629.4.1.1741356644.45.0.0',\n",
    "    'Upgrade-Insecure-Requests': '1'\n",
    "}, data={'imei': \"490154203237518\", 'token': \"\", \"api-name\": \"primary\"})"
   ]
  },
  {
   "cell_type": "code",
   "execution_count": null,
   "metadata": {},
   "outputs": [],
   "source": [
    "from selenium import webdriver\n",
    "from selenium.webdriver.chrome.service import Service\n",
    "from selenium_stealth import stealth\n",
    "import time\n",
    "import json\n",
    "\n",
    "options = webdriver.ChromeOptions()\n",
    "options.add_argument(\"--disable-blink-features=AutomationControlled\")\n",
    "options.add_argument(\"--start-maximized\")\n",
    "options.add_experimental_option(\"excludeSwitches\", [\"enable-automation\"])\n",
    "options.add_experimental_option(\"useAutomationExtension\", False)\n",
    "\n",
    "service = Service()\n",
    "driver = webdriver.Chrome(service=service, options=options)\n",
    "stealth(driver,\n",
    "        user_agent='Mozilla/5.0 (Windows NT 10.0; Win64; x64) AppleWebKit/537.36 (KHTML, like Gecko) Chrome/134.0.0.0 Safari/537.36',\n",
    "        languages=[\"ru-RU\", \"ru\", \"en-US\", \"en\"],\n",
    "        vendor=\"Google Inc.\",\n",
    "        platform=\"Win32\",\n",
    "        webgl_vendor=\"Intel Inc.\",\n",
    "        renderer=\"Intel Iris OpenGL Engine\",\n",
    "        fix_hairline=True,\n",
    "        )\n",
    "\n",
    "url = 'https://www.imei.info/?imei=490154203237518'\n",
    "driver.get(url)\n",
    "\n",
    "time.sleep(20)\n",
    "\n",
    "with open('rendered_page.html', 'w', encoding='utf-8') as f:\n",
    "    f.write(driver.page_source)\n",
    "with open('cookies.json', 'w') as f:\n",
    "    json.dump(driver.get_cookies(), f)\n",
    "\n",
    "driver.quit()"
   ]
  }
 ],
 "metadata": {
  "kernelspec": {
   "display_name": "Python 3",
   "language": "python",
   "name": "python3"
  },
  "language_info": {
   "codemirror_mode": {
    "name": "ipython",
    "version": 3
   },
   "file_extension": ".py",
   "mimetype": "text/x-python",
   "name": "python",
   "nbconvert_exporter": "python",
   "pygments_lexer": "ipython3",
   "version": "3.11.8"
  }
 },
 "nbformat": 4,
 "nbformat_minor": 2
}
